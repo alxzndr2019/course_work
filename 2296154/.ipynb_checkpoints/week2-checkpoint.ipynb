{
 "cells": [
  {
   "cell_type": "markdown",
   "id": "8fd68620-c4b2-42c0-9e93-db9439a5c5fc",
   "metadata": {},
   "source": [
    "# Excercise 1"
   ]
  },
  {
   "cell_type": "code",
   "execution_count": 1,
   "id": "77b9e2e7-09f4-45a1-a700-f92a959087c0",
   "metadata": {
    "tags": []
   },
   "outputs": [
    {
     "name": "stdin",
     "output_type": "stream",
     "text": [
      "Enter a string:  hello\n"
     ]
    },
    {
     "name": "stdout",
     "output_type": "stream",
     "text": [
      "The length of the string is: 5\n"
     ]
    }
   ],
   "source": [
    "# Get input from the user\n",
    "string_input = input(\"Enter a string: \")\n",
    "\n",
    "# Calculate the length of the input string\n",
    "string_length = len(string_input)\n",
    "\n",
    "# Print the length of the string\n",
    "print(f\"The length of the string is: {string_length}\")\n"
   ]
  },
  {
   "cell_type": "markdown",
   "id": "337fa4fe-a7cf-4f54-b14a-d25ced2d2610",
   "metadata": {},
   "source": [
    "# Excercise 2"
   ]
  },
  {
   "cell_type": "code",
   "execution_count": 2,
   "id": "67e138cc-9deb-4ac8-a55e-5ce153c13de2",
   "metadata": {
    "tags": []
   },
   "outputs": [
    {
     "name": "stdout",
     "output_type": "stream",
     "text": [
      "The sum of the numbers is: 10\n"
     ]
    }
   ],
   "source": [
    "# Define a list of numbers\n",
    "numbers_list = [1, 2, 3, 4]\n",
    "\n",
    "# Calculate the sum of the numbers in the list\n",
    "sum_of_numbers = sum(numbers_list)\n",
    "\n",
    "# Print the sum of the numbers\n",
    "print(f\"The sum of the numbers is: {sum_of_numbers}\")\n"
   ]
  },
  {
   "cell_type": "markdown",
   "id": "c52c1e5c-85f0-4070-af64-0655fa352658",
   "metadata": {},
   "source": [
    "# Excercise 3"
   ]
  },
  {
   "cell_type": "code",
   "execution_count": 3,
   "id": "67211bcf-9551-4c8e-9718-69bd2886508a",
   "metadata": {
    "tags": []
   },
   "outputs": [
    {
     "name": "stdout",
     "output_type": "stream",
     "text": [
      "The largest number is: 4\n"
     ]
    }
   ],
   "source": [
    "# Define a list of numbers\n",
    "numbers_list = [1, 2, 3, 4]\n",
    "\n",
    "# Find the largest number in the list\n",
    "largest_number = max(numbers_list)\n",
    "\n",
    "# Print the largest number\n",
    "print(f\"The largest number is: {largest_number}\")\n"
   ]
  },
  {
   "cell_type": "markdown",
   "id": "eae63fdb-bca5-4e2f-a101-9fd7ec1553ab",
   "metadata": {},
   "source": [
    "# Excercise 4"
   ]
  },
  {
   "cell_type": "code",
   "execution_count": 22,
   "id": "7c6f848a-ede3-4703-8ead-d7b4661ac66c",
   "metadata": {
    "tags": []
   },
   "outputs": [
    {
     "name": "stdout",
     "output_type": "stream",
     "text": [
      "Original String: restart\n",
      "Modified String: resta$t\n"
     ]
    }
   ],
   "source": [
    "# Define the original string\n",
    "sample_string = 'restart'\n",
    "\n",
    "# Create a modified string by replacing occurrences of the first character with '$', except the first occurrence\n",
    "first_char = sample_string[0]\n",
    "rest_of_string = sample_string[1:]\n",
    "modified_string = first_char + rest_of_string.replace(first_char, '$')\n",
    "\n",
    "# Print the original and modified strings\n",
    "print(f\"Original String: {sample_string}\")\n",
    "print(f\"Modified String: {modified_string}\")"
   ]
  },
  {
   "cell_type": "markdown",
   "id": "ed711a8d-f53e-44b6-9abc-46d922a6217a",
   "metadata": {},
   "source": [
    "# Excercise 5"
   ]
  },
  {
   "cell_type": "code",
   "execution_count": 23,
   "id": "5aed679f-5548-435c-b201-464889d15fa2",
   "metadata": {
    "tags": []
   },
   "outputs": [
    {
     "name": "stdout",
     "output_type": "stream",
     "text": [
      "Original List: [1, 2, 3, 4, 5, 5, 5, 5, 6, 6, 6]\n",
      "List with Duplicates Removed: [1, 2, 3, 4, 5, 6]\n"
     ]
    }
   ],
   "source": [
    "# Define the original list with duplicates\n",
    "original_list = [1, 2, 3, 4, 5, 5, 5, 5, 6, 6, 6]\n",
    "\n",
    "# Use set to remove duplicates and then convert it back to a list\n",
    "unique_list = list(set(original_list))\n",
    "\n",
    "# Print the original and modified lists\n",
    "print(f\"Original List: {original_list}\")\n",
    "print(f\"List with Duplicates Removed: {unique_list}\")\n"
   ]
  },
  {
   "cell_type": "markdown",
   "id": "3624982c-9612-414c-8acd-b2c6f0382f8a",
   "metadata": {},
   "source": [
    "# Excercise 6"
   ]
  },
  {
   "cell_type": "code",
   "execution_count": 7,
   "id": "e1e850f7-0097-4ab7-b7b1-9f72eb895cc0",
   "metadata": {
    "tags": []
   },
   "outputs": [
    {
     "name": "stdout",
     "output_type": "stream",
     "text": [
      "Integer Example: 42\n",
      "Float Example: 3.14\n",
      "String Example: Hello, Python!\n",
      "List Example: [1, 2, 3, 4, 5]\n",
      "Tuple Example: (1, 2, 3, 4, 5)\n",
      "Set Example: {1, 2, 3, 4, 5}\n",
      "Dictionary Example: {'key1': 'value1', 'key2': 'value2'}\n",
      "Boolean Example: True\n",
      "Binary Example: 11\n"
     ]
    }
   ],
   "source": [
    "\n",
    "# Integer\n",
    "integer_example = 42\n",
    "\n",
    "# Float\n",
    "float_example = 3.14\n",
    "\n",
    "# String\n",
    "string_example = \"Hello, Python!\"\n",
    "\n",
    "# List\n",
    "list_example = [1, 2, 3, 4, 5]\n",
    "\n",
    "# Tuple\n",
    "tuple_example = (1, 2, 3, 4, 5)\n",
    "\n",
    "# Set\n",
    "set_example = {1, 2, 3, 4, 5}\n",
    "\n",
    "# Dictionary\n",
    "dictionary_example = {'key1': 'value1', 'key2': 'value2'}\n",
    "\n",
    "# Boolean\n",
    "boolean_example = True\n",
    "\n",
    "# Binary\n",
    "\n",
    "binary_example = 0b1011\n",
    "\n",
    "# Print examples\n",
    "print(f\"Integer Example: {integer_example}\")\n",
    "print(f\"Float Example: {float_example}\")\n",
    "print(f\"String Example: {string_example}\")\n",
    "print(f\"List Example: {list_example}\")\n",
    "print(f\"Tuple Example: {tuple_example}\")\n",
    "print(f\"Set Example: {set_example}\")\n",
    "print(f\"Dictionary Example: {dictionary_example}\")\n",
    "print(f\"Boolean Example: {boolean_example}\")\n",
    "print(f\"Binary Example: {binary_example}\")\n",
    "\n"
   ]
  },
  {
   "cell_type": "code",
   "execution_count": null,
   "id": "3062c83c-7b24-4bda-a85d-8086ef306224",
   "metadata": {},
   "outputs": [],
   "source": []
  }
 ],
 "metadata": {
  "kernelspec": {
   "display_name": "Python 3 (ipykernel)",
   "language": "python",
   "name": "python3"
  },
  "language_info": {
   "codemirror_mode": {
    "name": "ipython",
    "version": 3
   },
   "file_extension": ".py",
   "mimetype": "text/x-python",
   "name": "python",
   "nbconvert_exporter": "python",
   "pygments_lexer": "ipython3",
   "version": "3.11.5"
  }
 },
 "nbformat": 4,
 "nbformat_minor": 5
}
