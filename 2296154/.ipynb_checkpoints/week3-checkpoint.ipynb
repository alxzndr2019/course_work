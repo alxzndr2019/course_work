{
 "cells": [
  {
   "cell_type": "markdown",
   "id": "b851d02a",
   "metadata": {},
   "source": [
    "# Exercise 1"
   ]
  },
  {
   "cell_type": "code",
   "execution_count": 7,
   "id": "e1e3b988",
   "metadata": {
    "tags": []
   },
   "outputs": [
    {
     "name": "stdout",
     "output_type": "stream",
     "text": [
      "12\n"
     ]
    }
   ],
   "source": [
    "# Define a list of numbers\n",
    "numbers = [5, 7, 1, 9, 12, 3, 8]\n",
    "\n",
    "# Initialize an empty list to store even numbers\n",
    "even = []\n",
    "\n",
    "# Iterate through the numbers and add even numbers to the 'even' list\n",
    "for item in numbers:\n",
    "    if item % 2 == 0:\n",
    "        even.append(item)\n",
    "\n",
    "# Check if there are even numbers in the list\n",
    "if len(even) > 0:\n",
    "    # Print the maximum even number\n",
    "    print(max(even))\n",
    "else:\n",
    "    # Print a message if there are no even numbers\n",
    "    print(\"There are no even numbers\")\n"
   ]
  },
  {
   "cell_type": "markdown",
   "id": "704ee0e3",
   "metadata": {},
   "source": [
    "# Exercise 2"
   ]
  },
  {
   "cell_type": "code",
   "execution_count": 11,
   "id": "90df6221",
   "metadata": {
    "tags": []
   },
   "outputs": [
    {
     "name": "stdout",
     "output_type": "stream",
     "text": [
      "The sum of prime numbers is: 19\n"
     ]
    }
   ],
   "source": [
    "# Define a list of numbers\n",
    "numbers = [1, 3, 5, 6, 8, 9, 11]\n",
    "\n",
    "# Initialize variables\n",
    "sum_primes = 0\n",
    "found_prime = False\n",
    "\n",
    "# Iterate through the numbers\n",
    "for num in numbers:\n",
    "    # Check if the number is greater than 1\n",
    "    if num > 1:\n",
    "        # Check for factors to determine if it's a prime number\n",
    "        for i in range(2, int(num**0.5) + 1):\n",
    "            if num % i == 0:\n",
    "                break\n",
    "        else:\n",
    "            # If no factors are found, the number is prime\n",
    "            sum_primes += num\n",
    "            found_prime = True\n",
    "\n",
    "# Check if any prime numbers were found\n",
    "if found_prime:\n",
    "    print(f\"The sum of prime numbers is: {sum_primes}\")\n",
    "else:\n",
    "    print(\"No prime numbers found in the list.\")\n"
   ]
  },
  {
   "cell_type": "code",
   "execution_count": null,
   "id": "387a7f32-b0b0-4330-bf41-e2f6a6f1ef14",
   "metadata": {},
   "outputs": [],
   "source": []
  }
 ],
 "metadata": {
  "kernelspec": {
   "display_name": "Python 3 (ipykernel)",
   "language": "python",
   "name": "python3"
  },
  "language_info": {
   "codemirror_mode": {
    "name": "ipython",
    "version": 3
   },
   "file_extension": ".py",
   "mimetype": "text/x-python",
   "name": "python",
   "nbconvert_exporter": "python",
   "pygments_lexer": "ipython3",
   "version": "3.11.5"
  }
 },
 "nbformat": 4,
 "nbformat_minor": 5
}
