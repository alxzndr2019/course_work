{
 "cells": [
  {
   "cell_type": "markdown",
   "id": "bd679e26",
   "metadata": {},
   "source": [
    "## Exercise 1"
   ]
  },
  {
   "cell_type": "code",
   "execution_count": 21,
   "id": "d7088a70",
   "metadata": {},
   "outputs": [
    {
     "name": "stdout",
     "output_type": "stream",
     "text": [
      "Random Array\n",
      "[[0.13176661 0.83229131 0.05250539]\n",
      " [0.04596394 0.08580226 0.07030291]\n",
      " [0.4021118  0.49486401 0.14854804]\n",
      " [0.51176486 0.32128498 0.92338331]\n",
      " [0.66481741 0.33857176 0.27093881]\n",
      " [0.03925508 0.55485849 0.45658588]\n",
      " [0.55852971 0.29685034 0.13629132]\n",
      " [0.08516651 0.31583428 0.63188438]\n",
      " [0.03583159 0.25016514 0.21334154]\n",
      " [0.05323178 0.75843438 0.33215798]]\n",
      "distances\n",
      "[[0.36823339 0.33229131 0.44749461]\n",
      " [0.45403606 0.41419774 0.42969709]\n",
      " [0.0978882  0.00513599 0.35145196]\n",
      " [0.01176486 0.17871502 0.42338331]\n",
      " [0.16481741 0.16142824 0.22906119]\n",
      " [0.46074492 0.05485849 0.04341412]\n",
      " [0.05852971 0.20314966 0.36370868]\n",
      " [0.41483349 0.18416572 0.13188438]\n",
      " [0.46416841 0.24983486 0.28665846]\n",
      " [0.44676822 0.25843438 0.16784202]]\n",
      "Sorted indices\n",
      "[[1 0 2]\n",
      " [1 2 0]\n",
      " [1 0 2]\n",
      " [0 1 2]\n",
      " [1 0 2]\n",
      " [2 1 0]\n",
      " [0 1 2]\n",
      " [2 1 0]\n",
      " [1 2 0]\n",
      " [2 1 0]]\n",
      "Closest indices\n",
      "[1 1 1 0 1 2 0 2 1 2]\n",
      "Final Result\n",
      "[0.83229131 0.08580226 0.49486401 0.51176486 0.33857176 0.45658588\n",
      " 0.55852971 0.63188438 0.25016514 0.33215798]\n"
     ]
    }
   ],
   "source": [
    "import numpy as np\n",
    "\n",
    "#Step 1 Generate a 10 x 3 array of random numbers (in range [0,1]).\n",
    "\n",
    "random_array = np.random.rand(10,3)\n",
    "print(\"Random Array\")\n",
    "print(random_array)\n",
    "#Step 2 For each element, compute the distance to 0.5\n",
    "print(\"distances\")\n",
    "distances = np.abs(random_array - 0.5)\n",
    "print(distances)\n",
    "#Step 4 return the indices that would sort an array (closest to farthest from 0.5 – horizontally)\n",
    "sorted_indices = np.argsort(distances,axis=1)\n",
    "print(\"Sorted indices\")\n",
    "print(sorted_indices)\n",
    "#Step 4 For each row, we are only interested in the column that is closest to 0.5 \n",
    "print(\"Closest indices\")\n",
    "closest_indices = sorted_indices[:,0]\n",
    "print(closest_indices)\n",
    "\n",
    "# Step 5 Extract the indices closest tp 0.5\n",
    "result = random_array[np.arange(10), closest_indices]\n",
    "\n",
    "print(\"Final Result\")\n",
    "\n",
    "print(result)\n"
   ]
  },
  {
   "cell_type": "markdown",
   "id": "5495f17e",
   "metadata": {},
   "source": [
    "## Exercise 2"
   ]
  },
  {
   "cell_type": "code",
   "execution_count": 53,
   "id": "b7f4fa4a",
   "metadata": {},
   "outputs": [
    {
     "name": "stdout",
     "output_type": "stream",
     "text": [
      "which are not divisible by 3\n",
      "[  5   4  10  89  43  46 100]\n",
      "which are  divisible by 5\n",
      "[  5  10  45 100]\n",
      "which are  divisible by 3 and 5\n",
      "[45]\n"
     ]
    }
   ],
   "source": [
    "## From the array [5,4,6,10,24,89,45,43,46,99,100] extract all the numbers:\n",
    "\n",
    "initial_array =np.array([5,4,6,10,24,89,45,43,46,99,100])\n",
    "\n",
    "print(\"which are not divisible by 3\")\n",
    "print(initial_array[np.where(initial_array%3!=0)])\n",
    "print(\"which are  divisible by 5\")\n",
    "print(initial_array[np.where(initial_array%5==0)])\n",
    "print(\"which are  divisible by 3 and 5\")\n",
    "print(initial_array[np.where((initial_array%5==0)&(initial_array%3==0)) ])\n",
    "print(\"which are not divisible by 3\")\n",
    "print(initial_array[np.where(initial_array%3!=0)])\n",
    "\n"
   ]
  },
  {
   "cell_type": "code",
   "execution_count": null,
   "id": "c00d8220",
   "metadata": {},
   "outputs": [],
   "source": []
  },
  {
   "cell_type": "code",
   "execution_count": null,
   "id": "f47ad7f6",
   "metadata": {},
   "outputs": [],
   "source": []
  },
  {
   "cell_type": "code",
   "execution_count": null,
   "id": "ae1ba6c2",
   "metadata": {},
   "outputs": [],
   "source": []
  },
  {
   "cell_type": "code",
   "execution_count": null,
   "id": "c1ba09b2",
   "metadata": {},
   "outputs": [],
   "source": []
  },
  {
   "cell_type": "code",
   "execution_count": null,
   "id": "50831699",
   "metadata": {},
   "outputs": [],
   "source": []
  },
  {
   "cell_type": "code",
   "execution_count": null,
   "id": "9022be06",
   "metadata": {},
   "outputs": [],
   "source": []
  },
  {
   "cell_type": "code",
   "execution_count": null,
   "id": "21a27c90",
   "metadata": {},
   "outputs": [],
   "source": []
  }
 ],
 "metadata": {
  "kernelspec": {
   "display_name": "Python 3 (ipykernel)",
   "language": "python",
   "name": "python3"
  },
  "language_info": {
   "codemirror_mode": {
    "name": "ipython",
    "version": 3
   },
   "file_extension": ".py",
   "mimetype": "text/x-python",
   "name": "python",
   "nbconvert_exporter": "python",
   "pygments_lexer": "ipython3",
   "version": "3.10.9"
  }
 },
 "nbformat": 4,
 "nbformat_minor": 5
}
