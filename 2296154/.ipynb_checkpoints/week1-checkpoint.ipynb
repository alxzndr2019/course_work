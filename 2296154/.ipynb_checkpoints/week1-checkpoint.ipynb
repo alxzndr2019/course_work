{
 "cells": [
  {
   "cell_type": "markdown",
   "id": "826f5c17-245b-4e51-812e-de902b5169d7",
   "metadata": {},
   "source": [
    "# Exercise 1"
   ]
  },
  {
   "cell_type": "code",
   "execution_count": 1,
   "id": "3e509f94-e134-4ddc-aea3-ca8c7fdefa81",
   "metadata": {
    "tags": []
   },
   "outputs": [
    {
     "name": "stdin",
     "output_type": "stream",
     "text": [
      "Enter the first number:  1\n",
      "Enter the second number:  2\n"
     ]
    },
    {
     "name": "stdout",
     "output_type": "stream",
     "text": [
      "The product of 1.0 and 2.0 is: 2.0\n"
     ]
    }
   ],
   "source": [
    "# collect products from input\n",
    "num1 = float(input(\"Enter the first number: \"))\n",
    "num2 = float(input(\"Enter the second number: \"))\n",
    "#add the products\n",
    "product = num1 * num2\n",
    "#print answer\n",
    "print(f\"The product of {num1} and {num2} is: {product}\")"
   ]
  },
  {
   "cell_type": "markdown",
   "id": "d3a5eda7-f8e3-4be9-86d1-766be00ecab5",
   "metadata": {},
   "source": [
    "# Exercise 2"
   ]
  },
  {
   "cell_type": "code",
   "execution_count": 2,
   "id": "bab9d7a4-21fb-4a29-aefd-a40620c574a8",
   "metadata": {
    "tags": []
   },
   "outputs": [
    {
     "name": "stdout",
     "output_type": "stream",
     "text": [
      "Name**Is**James\n"
     ]
    }
   ],
   "source": [
    "# initialize strings\n",
    "word1 = \"Name\"\n",
    "word2 = \"Is\"\n",
    "word3 = \"James\"\n",
    "# format strings\n",
    "formatted_string = f\"{word1}**{word2}**{word3}\"\n",
    "print(formatted_string)"
   ]
  },
  {
   "cell_type": "markdown",
   "id": "0ea04268-0b19-48bd-ad02-0949859520cb",
   "metadata": {},
   "source": [
    "# Excercise 3"
   ]
  },
  {
   "cell_type": "code",
   "execution_count": 3,
   "id": "15589892-ab5f-43f1-8a1c-2d831b1845dc",
   "metadata": {
    "tags": []
   },
   "outputs": [
    {
     "name": "stdout",
     "output_type": "stream",
     "text": [
      "Formatted float number: 458.54\n"
     ]
    }
   ],
   "source": [
    "#initialize float\n",
    "float_number = 458.541315\n",
    "# print formattted float\n",
    "print(f\"Formatted float number: {float_number:.2f}\")\n"
   ]
  },
  {
   "cell_type": "markdown",
   "id": "c33f1c57-ca52-477d-8a0d-e59c526d132e",
   "metadata": {
    "tags": []
   },
   "source": [
    "# Excercise 4"
   ]
  },
  {
   "cell_type": "code",
   "execution_count": 4,
   "id": "e9ed6cfc-ba35-429e-b0ea-24dee8c1e840",
   "metadata": {
    "tags": []
   },
   "outputs": [
    {
     "name": "stdin",
     "output_type": "stream",
     "text": [
      "Enter three names separated by spaces:  Alex jake hh\n"
     ]
    },
    {
     "name": "stdout",
     "output_type": "stream",
     "text": [
      "Name1: Alex\n",
      "Name2: jake\n",
      "Name3: hh\n"
     ]
    }
   ],
   "source": [
    "# Get input from the user\n",
    "input_string = input(\"Enter three names separated by spaces: \")\n",
    "# Split the input string into a list of names\n",
    "names = input_string.split()\n",
    "# Check if exactly three names were entered\n",
    "if len(names) == 3:\n",
    "     # Display each name with a corresponding label\n",
    "    print(\"Name1:\", names[0])\n",
    "    print(\"Name2:\", names[1])\n",
    "    print(\"Name3:\", names[2])\n",
    "else:\n",
    "     # Display an error message if the input is not as expected\n",
    "    print(\"Please enter exactly three names separated by spaces.\")\n"
   ]
  },
  {
   "cell_type": "markdown",
   "id": "a94661b9-532f-4c04-b102-0b1cfeca85bf",
   "metadata": {},
   "source": [
    "# Excercise 5"
   ]
  },
  {
   "cell_type": "code",
   "execution_count": 5,
   "id": "fcd645f1-9d95-4dcb-acab-afad8d9e5068",
   "metadata": {
    "tags": []
   },
   "outputs": [
    {
     "name": "stdin",
     "output_type": "stream",
     "text": [
      "Enter the first number:  2\n",
      "Enter the second number:  3\n"
     ]
    },
    {
     "name": "stdout",
     "output_type": "stream",
     "text": [
      "The result is: 6\n"
     ]
    }
   ],
   "source": [
    "# Get input from the user\n",
    "\n",
    "num1 = int(input(\"Enter the first number: \"))\n",
    "num2 = int(input(\"Enter the second number: \"))\n",
    "# get the product of the inputs\n",
    "product = num1 * num2\n",
    "#check if product is less than or equals to 1000\n",
    "if product <= 1000:\n",
    "    # print product if product is less than or equals to 1000\n",
    "    print(f\"The result is: {product}\")\n",
    "else:\n",
    "     #else print  the sum of inputs\n",
    "    total_sum = num1 + num2\n",
    "    print(f\"The result is: {total_sum}\")\n"
   ]
  },
  {
   "cell_type": "markdown",
   "id": "93f9735b-1238-4da8-9263-efcf08975227",
   "metadata": {},
   "source": [
    "# Excercise 6"
   ]
  },
  {
   "cell_type": "code",
   "execution_count": 6,
   "id": "8b5e5611-04d5-462f-a083-e4b640f30f25",
   "metadata": {
    "tags": []
   },
   "outputs": [
    {
     "name": "stdout",
     "output_type": "stream",
     "text": [
      "Printing current and previous number sum in a range(10)\n",
      "Current Number 0 Previous Number 0 Sum: 0\n",
      "Current Number 1 Previous Number 0 Sum: 1\n",
      "Current Number 2 Previous Number 1 Sum: 3\n",
      "Current Number 3 Previous Number 2 Sum: 5\n",
      "Current Number 4 Previous Number 3 Sum: 7\n",
      "Current Number 5 Previous Number 4 Sum: 9\n",
      "Current Number 6 Previous Number 5 Sum: 11\n",
      "Current Number 7 Previous Number 6 Sum: 13\n",
      "Current Number 8 Previous Number 7 Sum: 15\n",
      "Current Number 9 Previous Number 8 Sum: 17\n"
     ]
    }
   ],
   "source": [
    "# Print a message indicating the operation being performed\n",
    "print(\"Printing current and previous number sum in a range(10)\")\n",
    "\n",
    "# Iterate through numbers in the range(10)\n",
    "for current_number in range(10):\n",
    "    # Determine the previous number (0 for the first iteration)\n",
    "    if current_number == 0:\n",
    "        previous_number = 0\n",
    "    else:\n",
    "        previous_number = current_number - 1\n",
    "\n",
    "    # Calculate the sum of the current and previous numbers\n",
    "    total_sum = current_number + previous_number\n",
    "\n",
    "    # Print the current number, previous number, and their sum\n",
    "    print(f\"Current Number {current_number} Previous Number {previous_number} Sum: {total_sum}\")\n"
   ]
  },
  {
   "cell_type": "markdown",
   "id": "647324c9-0e94-4011-8847-eead07deca91",
   "metadata": {},
   "source": [
    "# Exercise 7"
   ]
  },
  {
   "cell_type": "code",
   "execution_count": 8,
   "id": "da61df9f-2461-4d20-9d05-9e46e8f79eee",
   "metadata": {
    "tags": []
   },
   "outputs": [
    {
     "name": "stdout",
     "output_type": "stream",
     "text": [
      "Original String is: pynative\n",
      "p\n",
      "n\n",
      "t\n",
      "v\n"
     ]
    }
   ],
   "source": [
    "# Define the original string\n",
    "string = \"pynative\"\n",
    "\n",
    "# Print the original string\n",
    "print(\"Original String is:\", string)\n",
    "\n",
    "# Extract even-indexed characters from the string\n",
    "even_characters = string[::2]\n",
    "\n",
    "# Iterate through even-indexed characters and print each character on a new line\n",
    "for char in even_characters:\n",
    "    print(char)\n"
   ]
  },
  {
   "cell_type": "markdown",
   "id": "893a50c0-b228-4c54-b9a6-f1f012d62f65",
   "metadata": {},
   "source": [
    "# Excercise 8"
   ]
  },
  {
   "cell_type": "code",
   "execution_count": 12,
   "id": "2061bdc5-82f7-495e-8b09-4cdf54766c27",
   "metadata": {
    "tags": []
   },
   "outputs": [
    {
     "name": "stdout",
     "output_type": "stream",
     "text": [
      "John's Monthly Salary Calculation:\n",
      "Hourly Wage: £80\n",
      "Hours per Week: 35\n",
      "Weekly Salary: £2800\n",
      "Monthly Salary before Tax: £11200\n",
      "Tax Deduction (15.0%): £1680.0\n",
      "Net Monthly Salary: £9520.0\n"
     ]
    }
   ],
   "source": [
    "# Define salary-related constants\n",
    "wage_per_hour = 80  # in pounds\n",
    "hours_per_week = 35\n",
    "tax_rate = 0.15  # 15%\n",
    "\n",
    "# Calculate weekly and monthly salary\n",
    "weekly_salary = wage_per_hour * hours_per_week\n",
    "monthly_salary = weekly_salary * 4\n",
    "\n",
    "# Calculate tax amount\n",
    "tax_amount = monthly_salary * tax_rate\n",
    "\n",
    "# Calculate net salary after tax deduction\n",
    "net_salary = monthly_salary - tax_amount\n",
    "\n",
    "# Display John's Monthly Salary Calculation\n",
    "print(\"John's Monthly Salary Calculation:\")\n",
    "print(f\"Hourly Wage: £{wage_per_hour}\")\n",
    "print(f\"Hours per Week: {hours_per_week}\")\n",
    "print(f\"Weekly Salary: £{weekly_salary}\")\n",
    "print(f\"Monthly Salary before Tax: £{monthly_salary}\")\n",
    "print(f\"Tax Deduction ({tax_rate * 100}%): £{tax_amount}\")\n",
    "print(f\"Net Monthly Salary: £{net_salary}\")\n"
   ]
  },
  {
   "cell_type": "code",
   "execution_count": null,
   "id": "720d3285-bbf3-404b-9da1-fb7a448d277b",
   "metadata": {},
   "outputs": [],
   "source": []
  }
 ],
 "metadata": {
  "kernelspec": {
   "display_name": "Python 3 (ipykernel)",
   "language": "python",
   "name": "python3"
  },
  "language_info": {
   "codemirror_mode": {
    "name": "ipython",
    "version": 3
   },
   "file_extension": ".py",
   "mimetype": "text/x-python",
   "name": "python",
   "nbconvert_exporter": "python",
   "pygments_lexer": "ipython3",
   "version": "3.11.5"
  }
 },
 "nbformat": 4,
 "nbformat_minor": 5
}
