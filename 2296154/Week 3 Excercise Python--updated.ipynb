{
 "cells": [
  {
   "cell_type": "markdown",
   "id": "62772264",
   "metadata": {},
   "source": [
    "# Exercise 1"
   ]
  },
  {
   "cell_type": "code",
   "execution_count": null,
   "id": "9ab3a349",
   "metadata": {},
   "outputs": [],
   "source": [
    "numbers = [5, 7, 1, 9, 3]\n",
    "even =[]\n",
    "for item in numbers:\n",
    "    if item % 2 == 0:\n",
    "        even.append(item)\n",
    "        \n",
    "if(len(even) > 0 ): \n",
    "    print(max(even))\n",
    "else:\n",
    "    print(\"there are no even numbers\")\n",
    "\n",
    "   "
   ]
  },
  {
   "cell_type": "markdown",
   "id": "ef1fc4c1",
   "metadata": {},
   "source": [
    "# Exercise 2"
   ]
  },
  {
   "cell_type": "code",
   "execution_count": null,
   "id": "ced225f5",
   "metadata": {},
   "outputs": [],
   "source": [
    "numbers = [1, 3, 5, 6, 8, 9]\n",
    "prime = []\n",
    "total = 0\n",
    "def is_prime(n):\n",
    "    if n == 1:\n",
    "        return False\n",
    "    for i in range(2, n):\n",
    "        if(n%i)==0:\n",
    "            return False\n",
    "    return True\n",
    "for item in numbers:\n",
    "    if is_prime(item) == True:\n",
    "        prime.append(item)\n",
    "if(len(prime)< 0):\n",
    "    print(\"There are no prime numbers\")\n",
    "else:\n",
    "    for item in prime:\n",
    "        total += item\n",
    "    print(total)\n",
    "    \n",
    "        \n"
   ]
  },
  {
   "cell_type": "code",
   "execution_count": null,
   "id": "00fb912b",
   "metadata": {},
   "outputs": [],
   "source": []
  },
  {
   "cell_type": "code",
   "execution_count": null,
   "id": "d64b4aa2",
   "metadata": {},
   "outputs": [],
   "source": []
  },
  {
   "cell_type": "code",
   "execution_count": null,
   "id": "046f751b",
   "metadata": {},
   "outputs": [],
   "source": []
  }
 ],
 "metadata": {
  "kernelspec": {
   "display_name": "Python 3 (ipykernel)",
   "language": "python",
   "name": "python3"
  },
  "language_info": {
   "codemirror_mode": {
    "name": "ipython",
    "version": 3
   },
   "file_extension": ".py",
   "mimetype": "text/x-python",
   "name": "python",
   "nbconvert_exporter": "python",
   "pygments_lexer": "ipython3",
   "version": "3.11.5"
  }
 },
 "nbformat": 4,
 "nbformat_minor": 5
}
