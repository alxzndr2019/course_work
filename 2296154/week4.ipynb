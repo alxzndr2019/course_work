{
 "cells": [
  {
   "cell_type": "markdown",
   "id": "97d78b02",
   "metadata": {},
   "source": [
    "## Exercise 1 "
   ]
  },
  {
   "cell_type": "code",
   "execution_count": 16,
   "id": "7397f668",
   "metadata": {},
   "outputs": [
    {
     "name": "stdout",
     "output_type": "stream",
     "text": [
      "9\n",
      "22\n",
      "1088\n",
      "4.0\n"
     ]
    }
   ],
   "source": [
    "def calculator(operation, *args):\n",
    "    result = 0\n",
    "    \n",
    "    # Check the operation and perform the corresponding calculation\n",
    "    if operation == \"add\":\n",
    "        result = sum(args)\n",
    "    elif operation == \"subtract\":\n",
    "        result = args[0] - sum(args[1:])\n",
    "    elif operation == \"multiply\":\n",
    "        result = 1\n",
    "        for num in args:\n",
    "            result *= num\n",
    "    elif operation == \"divide\":\n",
    "        # Check for division by zero\n",
    "        if 0 in args[1:]:\n",
    "            return \"Cannot divide by zero\"\n",
    "        result = args[0]\n",
    "        for num in args[1:]:\n",
    "            result /= num\n",
    "        \n",
    "    return result\n",
    "    \n",
    "# Test the calculator function with different operations and operands\n",
    "print(calculator(\"add\", 2, 3, 4))\n",
    "print(calculator(\"subtract\", 34, 8, 4))\n",
    "print(calculator(\"multiply\", 34, 8, 4))\n",
    "print(calculator(\"divide\", 8, 2))\n"
   ]
  },
  {
   "cell_type": "markdown",
   "id": "e7610f21",
   "metadata": {},
   "source": [
    "## Excersise 2"
   ]
  },
  {
   "cell_type": "code",
   "execution_count": 3,
   "id": "7a300e55",
   "metadata": {
    "tags": []
   },
   "outputs": [
    {
     "name": "stdout",
     "output_type": "stream",
     "text": [
      "120\n",
      "2\n"
     ]
    }
   ],
   "source": [
    "def factorial(n):\n",
    "    # Base case: factorial of 0 is 1\n",
    "    if n == 0:\n",
    "        return 1\n",
    "    else:\n",
    "        # Recursive case: n! = n * (n-1)!\n",
    "        return n * factorial(n-1)\n",
    "\n",
    "# Test the factorial function with different inputs\n",
    "print(factorial(5))  \n",
    "print(factorial(2))  \n"
   ]
  },
  {
   "cell_type": "markdown",
   "id": "f5a09bbc",
   "metadata": {},
   "source": [
    "## Excersise 3"
   ]
  },
  {
   "cell_type": "code",
   "execution_count": 2,
   "id": "6a72688c",
   "metadata": {},
   "outputs": [
    {
     "name": "stdout",
     "output_type": "stream",
     "text": [
      "[0, 1, 1, 2, 3, 5, 8, 13, 21, 34, 55, 89, 144, 233, 377, 610, 987, 1597, 2584, 4181, 6765, 10946, 17711, 28657, 46368, 75025, 121393, 196418, 317811, 514229, 832040, 1346269, 2178309, 3524578, 5702887, 9227465, 14930352, 24157817, 39088169, 63245986, 102334155, 165580141, 267914296, 433494437, 701408733, 1134903170, 1836311903, 2971215073, 4807526976, 7778742049, 12586269025, 20365011074, 32951280099, 53316291173, 86267571272, 139583862445, 225851433717, 365435296162, 591286729879, 956722026041, 1548008755920, 2504730781961, 4052739537881, 6557470319842, 10610209857723, 17167680177565, 27777890035288, 44945570212853, 72723460248141, 117669030460994, 190392490709135, 308061521170129, 498454011879264, 806515533049393, 1304969544928657, 2111485077978050, 3416454622906707, 5527939700884757, 8944394323791464, 14472334024676221, 23416728348467685, 37889062373143906, 61305790721611591, 99194853094755497, 160500643816367088, 259695496911122585, 420196140727489673, 679891637638612258, 1100087778366101931, 1779979416004714189, 2880067194370816120, 4660046610375530309, 7540113804746346429, 12200160415121876738, 19740274219868223167, 31940434634990099905, 51680708854858323072, 83621143489848422977, 135301852344706746049, 218922995834555169026]\n"
     ]
    }
   ],
   "source": [
    "def fibonacci(n):\n",
    "    # Base cases\n",
    "    if n <= 0:\n",
    "        return []  # Empty list for non-positive n\n",
    "    elif n == 1:\n",
    "        return [0]  # First Fibonacci number is 0\n",
    "    elif n == 2:\n",
    "        return [0, 1]  # Second Fibonacci number is 1\n",
    "\n",
    "    # Recursive case: generate Fibonacci series up to n-1\n",
    "    fib_series = fibonacci(n - 1)\n",
    "\n",
    "    # Append the sum of the last two numbers to the series\n",
    "    fib_series.append(fib_series[-1] + fib_series[-2])\n",
    "\n",
    "    return fib_series\n",
    "\n",
    "# Test the fibonacci function with n = 100\n",
    "print(fibonacci(100))\n",
    "\n",
    "\n"
   ]
  },
  {
   "cell_type": "markdown",
   "id": "d929075a",
   "metadata": {},
   "source": [
    "## Excersise 4"
   ]
  },
  {
   "cell_type": "code",
   "execution_count": 7,
   "id": "2a792aa8",
   "metadata": {
    "tags": []
   },
   "outputs": [
    {
     "name": "stdout",
     "output_type": "stream",
     "text": [
      "The first 100 numbers of the Bernoulli series are: [1, 0.5, -0.16666666666666652, -1.958333333333333, -7.674999999999999, -27.831944444444446, -105.63353174603174, -432.9666418650794, -1926.6765900573193, -9279.17242035935, -48105.464759725226, -266935.9014605358, -1577145.460615931, -9875564.618158642, -65267462.153132185, -453645315.4177366, -3305613282.49306, -25182337433.49745, -200067663308.10623, -1654009160153.4734, -14201027592297.219, -126399810882618.8, -1164430178961259.0, -1.108609331329232e+16, -1.0893150187890446e+17, -1.103310388731656e+18, -1.1505685420951953e+19, -1.2340603012776657e+20, -1.360006704756629e+21, -1.5386075612272008e+22, -1.785356116439961e+23, -2.1231668477690517e+24, -2.5857083729564425e+25, -3.2225878173470574e+26, -4.10744212152009e+27, -5.350664830209471e+28, -7.119620664563541e+29, -9.671099073714083e+30, -1.3404002009130681e+32, -1.8945862323548923e+33, -2.7296562086722008e+34, -4.006985112172751e+35, -5.990396626509959e+36, -9.116792536358886e+37, -1.4119063346070162e+39, -2.2242482721974397e+40, -3.563013816016785e+41, -5.801743797875323e+42, -9.599807242237578e+43, -1.613583181426555e+45, -2.7543080535409616e+46, -4.773078243688562e+47, -8.395120217846748e+48, -1.4982339245264118e+50, -2.712333064733068e+51, -4.979749876395888e+52, -9.269738174704887e+53, -1.7491248464997755e+55, -3.3447911860741584e+56, -6.480624087488567e+57, -1.2719562370639633e+59, -2.528400743288534e+60, -5.089226448597438e+61, -1.0370655282816102e+63, -2.1390857255695135e+64, -4.465182566899777e+65, -9.43111658446021e+66, -2.0152361084396673e+68, -4.355679365661116e+69, -9.521015690412467e+70, -2.1044582067618714e+72, -4.702849643942353e+73, -1.062384120125534e+75, -2.425712857792659e+76, -5.597239247921089e+77, -1.305046317428681e+79, -3.074241644522006e+80, -7.3156685226812034e+81, -1.7584066492367222e+83, -4.268552219132006e+84, -1.0463714448549389e+86, -2.5899086166255913e+87, -6.471825255600814e+88, -1.6325428187374475e+90, -4.156718794819793e+91, -1.068166316027498e+93, -2.7700285216701955e+94, -7.248409336472885e+95, -1.9136885322543227e+97, -5.0971543864654214e+98, -1.3695287397929853e+100, -3.7115991862434017e+101, -1.0145142242652896e+103, -2.7965577066852992e+104, -7.773565086407185e+105, -2.1787656444143796e+107, -6.156847528290431e+108, -1.7539951563817138e+110, -5.037159643302325e+111, -1.458130149438778e+113]\n"
     ]
    }
   ],
   "source": [
    "def factorial(n):\n",
    "    # Base case: factorial of 0 is 1\n",
    "    if n == 0:\n",
    "        return 1\n",
    "    else:\n",
    "        # Recursive case: n! = n * (n-1)!\n",
    "        return n * factorial(n-1)\n",
    "\n",
    "def bernoulli(n):\n",
    "    # Initialize the Bernoulli series with the first term\n",
    "    b_series = [1]\n",
    "\n",
    "    # Generate the Bernoulli series up to the nth term\n",
    "    for k in range(1, n):\n",
    "        term = 0\n",
    "        for j in range(k + 1):\n",
    "            term += (j ** k) / factorial(j + 1)\n",
    "        b_series.append(1 - term)\n",
    "\n",
    "    return b_series\n",
    "\n",
    "# Set the value of n\n",
    "n = 100\n",
    "\n",
    "# Calculate the first n numbers of the Bernoulli series\n",
    "result_bernoulli = bernoulli(n)\n",
    "\n",
    "# Print the result\n",
    "print(f\"The first {n} numbers of the Bernoulli series are: {result_bernoulli}\")\n"
   ]
  },
  {
   "cell_type": "markdown",
   "id": "8bcddc4a",
   "metadata": {},
   "source": [
    "## Exersise 5"
   ]
  },
  {
   "cell_type": "code",
   "execution_count": 9,
   "id": "95740725",
   "metadata": {
    "tags": []
   },
   "outputs": [
    {
     "name": "stdout",
     "output_type": "stream",
     "text": [
      "The first 100 prime numbers are: [2, 3, 5, 7, 11, 13, 17, 19, 23, 29, 31, 37, 41, 43, 47, 53, 59, 61, 67, 71, 73, 79, 83, 89, 97, 101, 103, 107, 109, 113, 127, 131, 137, 139, 149, 151, 157, 163, 167, 173, 179, 181, 191, 193, 197, 199, 211, 223, 227, 229, 233, 239, 241, 251, 257, 263, 269, 271, 277, 281, 283, 293, 307, 311, 313, 317, 331, 337, 347, 349, 353, 359, 367, 373, 379, 383, 389, 397, 401, 409, 419, 421, 431, 433, 439, 443, 449, 457, 461, 463, 467, 479, 487, 491, 499, 503, 509, 521, 523, 541]\n"
     ]
    }
   ],
   "source": [
    "def is_prime(num):\n",
    "    # Check if the number is less than 2\n",
    "    if num < 2:\n",
    "        return False\n",
    "\n",
    "    # Check for factors to determine if it's a prime number\n",
    "    for i in range(2, int(num**0.5) + 1):\n",
    "        if num % i == 0:\n",
    "            return False\n",
    "\n",
    "    return True\n",
    "\n",
    "def generate_primes(n):\n",
    "    primes = []\n",
    "    num = 2\n",
    "\n",
    "    # Generate the first n prime numbers\n",
    "    while len(primes) < n:\n",
    "        if is_prime(num):\n",
    "            primes.append(num)\n",
    "        num += 1\n",
    "\n",
    "    return primes\n",
    "\n",
    "# Set the value of n\n",
    "primes = 100\n",
    "\n",
    "# Generate the first 100 prime numbers\n",
    "result_primes = generate_primes(primes)\n",
    "\n",
    "# Print the result\n",
    "print(f\"The first {primes} prime numbers are: {result_primes}\")\n"
   ]
  },
  {
   "cell_type": "code",
   "execution_count": null,
   "id": "6192456d-a59a-43e5-b543-459cd0182508",
   "metadata": {},
   "outputs": [],
   "source": []
  }
 ],
 "metadata": {
  "kernelspec": {
   "display_name": "Python 3 (ipykernel)",
   "language": "python",
   "name": "python3"
  },
  "language_info": {
   "codemirror_mode": {
    "name": "ipython",
    "version": 3
   },
   "file_extension": ".py",
   "mimetype": "text/x-python",
   "name": "python",
   "nbconvert_exporter": "python",
   "pygments_lexer": "ipython3",
   "version": "3.11.5"
  }
 },
 "nbformat": 4,
 "nbformat_minor": 5
}
