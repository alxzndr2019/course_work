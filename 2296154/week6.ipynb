{
 "cells": [
  {
   "cell_type": "markdown",
   "id": "bd679e26",
   "metadata": {},
   "source": [
    "## Exercise 1"
   ]
  },
  {
   "cell_type": "code",
   "execution_count": 1,
   "id": "d7088a70",
   "metadata": {
    "tags": []
   },
   "outputs": [
    {
     "name": "stdout",
     "output_type": "stream",
     "text": [
      "Random Array\n",
      "[[0.88134311 0.21289432 0.35675808]\n",
      " [0.86986745 0.94288355 0.21521933]\n",
      " [0.16692151 0.91892663 0.55538155]\n",
      " [0.5459785  0.22719979 0.56848188]\n",
      " [0.01062174 0.78593492 0.50247346]\n",
      " [0.64395632 0.83469413 0.16714406]\n",
      " [0.96099524 0.12615496 0.26114329]\n",
      " [0.44488234 0.87192656 0.04923959]\n",
      " [0.89592819 0.8670724  0.25389095]\n",
      " [0.30306798 0.74875161 0.40332412]]\n",
      "distances\n",
      "[[0.38134311 0.28710568 0.14324192]\n",
      " [0.36986745 0.44288355 0.28478067]\n",
      " [0.33307849 0.41892663 0.05538155]\n",
      " [0.0459785  0.27280021 0.06848188]\n",
      " [0.48937826 0.28593492 0.00247346]\n",
      " [0.14395632 0.33469413 0.33285594]\n",
      " [0.46099524 0.37384504 0.23885671]\n",
      " [0.05511766 0.37192656 0.45076041]\n",
      " [0.39592819 0.3670724  0.24610905]\n",
      " [0.19693202 0.24875161 0.09667588]]\n",
      "Sorted indices\n",
      "[[2 1 0]\n",
      " [2 0 1]\n",
      " [2 0 1]\n",
      " [0 2 1]\n",
      " [2 1 0]\n",
      " [0 2 1]\n",
      " [2 1 0]\n",
      " [0 1 2]\n",
      " [2 1 0]\n",
      " [2 0 1]]\n",
      "Closest indices\n",
      "[2 2 2 0 2 0 2 0 2 2]\n",
      "Final Result\n",
      "[0.35675808 0.21521933 0.55538155 0.5459785  0.50247346 0.64395632\n",
      " 0.26114329 0.44488234 0.25389095 0.40332412]\n"
     ]
    }
   ],
   "source": [
    "import numpy as np\n",
    "\n",
    "# Generate a random 10x3 NumPy array\n",
    "random_array = np.random.rand(10, 3)\n",
    "print(\"Random Array\")\n",
    "print(random_array)\n",
    "\n",
    "# Calculate the absolute differences from 0.5\n",
    "distances = np.abs(random_array - 0.5)\n",
    "print(\"Distances\")\n",
    "print(distances)\n",
    "\n",
    "# Sort the indices based on distances\n",
    "sorted_indices = np.argsort(distances, axis=1)\n",
    "print(\"Sorted Indices\")\n",
    "print(sorted_indices)\n",
    "\n",
    "# Find the closest indices for each row\n",
    "closest_indices = sorted_indices[:, 0]\n",
    "print(\"Closest Indices\")\n",
    "print(closest_indices)\n",
    "\n",
    "# Retrieve the corresponding values using the closest indices\n",
    "result = random_array[np.arange(10), closest_indices]\n",
    "print(\"Final Result\")\n",
    "print(result)\n"
   ]
  },
  {
   "cell_type": "markdown",
   "id": "5495f17e",
   "metadata": {},
   "source": [
    "## Exercise 2"
   ]
  },
  {
   "cell_type": "code",
   "execution_count": 2,
   "id": "b7f4fa4a",
   "metadata": {
    "tags": []
   },
   "outputs": [
    {
     "name": "stdout",
     "output_type": "stream",
     "text": [
      "which are not divisible by 3\n",
      "[  5   4  10  89  43  46 100]\n",
      "which are  divisible by 5\n",
      "[  5  10  45 100]\n",
      "which are  divisible by 3 and 5\n",
      "[45]\n",
      "which are not divisible by 3\n",
      "[  5   4  10  89  43  46 100]\n"
     ]
    }
   ],
   "source": [
    "\n",
    "# Define an initial NumPy array\n",
    "initial_array = np.array([5, 4, 6, 10, 24, 89, 45, 43, 46, 99, 100])\n",
    "\n",
    "# Print elements which are not divisible by 3\n",
    "print(\"Elements not divisible by 3:\")\n",
    "print(initial_array[np.where(initial_array % 3 != 0)])\n",
    "\n",
    "# Print elements which are divisible by 5\n",
    "print(\"Elements divisible by 5:\")\n",
    "print(initial_array[np.where(initial_array % 5 == 0)])\n",
    "\n",
    "# Print elements which are divisible by both 3 and 5\n",
    "print(\"Elements divisible by 3 and 5:\")\n",
    "print(initial_array[np.where((initial_array % 5 == 0) & (initial_array % 3 == 0))])\n",
    "\n",
    "# Print elements which are not divisible by 3 (again, for demonstration)\n",
    "print(\"Elements not divisible by 3:\")\n",
    "print(initial_array[np.where(initial_array % 3 != 0)])\n"
   ]
  },
  {
   "cell_type": "markdown",
   "id": "9aaddbbd-36c9-4fe3-b3a5-ff414189339b",
   "metadata": {},
   "source": [
    "# Exercise 3"
   ]
  },
  {
   "cell_type": "code",
   "execution_count": 5,
   "id": "f47ad7f6",
   "metadata": {
    "tags": []
   },
   "outputs": [
    {
     "name": "stdout",
     "output_type": "stream",
     "text": [
      "Prime numbers between 0 and 100:\n",
      "[ 2  3  5  7 11 13 17 19 23 29 31 37 41 43 47 53 59 61 67 71 73 79 83 89\n",
      " 97]\n",
      "\n",
      "First 100 prime numbers:\n",
      "[  0   1   2   3   5   7  11  13  17  19  23  29  31  37  41  43  47  53\n",
      "  59  61  67  71  73  79  83  89  97 101 103 107 109 113 127 131 137 139\n",
      " 149 151 157 163 167 173 179 181 191 193 197 199 211 223 227 229 233 239\n",
      " 241 251 257 263 269 271 277 281 283 293 307 311 313 317 331 337 347 349\n",
      " 353 359 367 373 379 383 389 397 401 409 419 421 431 433 439 443 449 457\n",
      " 461 463 467 479 487 491 499 503 509 521]\n"
     ]
    }
   ],
   "source": [
    "\n",
    "# Sieve of Eratosthenes for primes between 0 and 100\n",
    "is_prime = np.ones(101, dtype=bool)\n",
    "is_prime[:2] = False\n",
    "\n",
    "for i in range(2, int(np.sqrt(101)) + 1):\n",
    "    if is_prime[i]:\n",
    "        is_prime[i * i: 101: i] = False\n",
    "\n",
    "print(\"Prime numbers between 0 and 100:\")\n",
    "print(np.nonzero(is_prime)[0])\n",
    "\n",
    "# Sieve of Eratosthenes for the first 100 prime numbers\n",
    "is_prime = np.ones(542, dtype=bool)  # 542 is an approximation of the number of primes less than 4000\n",
    "\n",
    "for i in range(2, int(np.sqrt(4000)) + 1):\n",
    "    if is_prime[i]:\n",
    "        is_prime[i * i: 4000: i] = False\n",
    "\n",
    "first_100_primes = np.nonzero(is_prime)[0][:100]\n",
    "print(\"\\nFirst 100 prime numbers:\")\n",
    "print(first_100_primes)\n"
   ]
  },
  {
   "cell_type": "code",
   "execution_count": null,
   "id": "4e7ff582-3553-4653-b3ba-f8425884cb2b",
   "metadata": {},
   "outputs": [],
   "source": []
  }
 ],
 "metadata": {
  "kernelspec": {
   "display_name": "Python 3 (ipykernel)",
   "language": "python",
   "name": "python3"
  },
  "language_info": {
   "codemirror_mode": {
    "name": "ipython",
    "version": 3
   },
   "file_extension": ".py",
   "mimetype": "text/x-python",
   "name": "python",
   "nbconvert_exporter": "python",
   "pygments_lexer": "ipython3",
   "version": "3.11.5"
  }
 },
 "nbformat": 4,
 "nbformat_minor": 5
}
