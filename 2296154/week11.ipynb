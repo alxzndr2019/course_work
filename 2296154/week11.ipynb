{
 "cells": [
  {
   "cell_type": "markdown",
   "id": "87a50454-2b38-4ebe-8496-0f95c91e21f2",
   "metadata": {
    "tags": []
   },
   "source": [
    "# Excercise write: a class called Calculator that emulates the basic functions of a scientific calculator including: add, subtract, multiply, divide, sqr, sqrt, power, sin, cos, reciprocal and clear.\n"
   ]
  },
  {
   "cell_type": "code",
   "execution_count": 18,
   "id": "656e690f",
   "metadata": {
    "tags": []
   },
   "outputs": [
    {
     "name": "stdout",
     "output_type": "stream",
     "text": [
      "0.0\n",
      "20.0\n",
      "-8.0\n",
      "-232.0\n",
      "-2.32\n",
      "-2.32\n",
      "0.0\n"
     ]
    }
   ],
   "source": [
    "import math\n",
    "\n",
    "class Calculator:\n",
    "    def __init__(self):\n",
    "        # Initialize the answer to 0.0\n",
    "        self.answer = 0.0\n",
    "    \n",
    "    def get_value(self):\n",
    "        # Return the current answer\n",
    "        return self.answer\n",
    "    \n",
    "    def clear(self):\n",
    "        # Clear the calculator by setting the answer back to 0.0\n",
    "        self.answer = 0.0\n",
    "        return self.answer\n",
    "    \n",
    "    def add(self, x):\n",
    "        # Add x to the current answer\n",
    "        self.answer += x\n",
    "        return self.answer\n",
    "    \n",
    "    def subtract(self, x):\n",
    "        # Subtract x from the current answer\n",
    "        self.answer -= x\n",
    "        return self.answer\n",
    "    \n",
    "    def multiply(self, x):\n",
    "        # Multiply the current answer by x\n",
    "        self.answer *= x\n",
    "        return self.answer\n",
    "    \n",
    "    def divide(self, x):\n",
    "        # Divide the current answer by x (handle division by zero)\n",
    "        if x != 0:\n",
    "            self.answer /= x\n",
    "        else:\n",
    "            print(\"Error: Division by zero\")\n",
    "        return self.answer\n",
    "    \n",
    "    def sqr(self):\n",
    "        # Square the current answer\n",
    "        self.answer = self.answer ** 2\n",
    "        return self.answer\n",
    "    \n",
    "    def sqrt(self):\n",
    "        # Take the square root of the current answer (handle negative numbers)\n",
    "        if self.answer >= 0:\n",
    "            self.answer = math.sqrt(self.answer)\n",
    "        else:\n",
    "            print(\"Error: Cannot calculate square root of a negative number\")\n",
    "        return self.answer\n",
    "    \n",
    "    def poww(self, x):\n",
    "        # Raise the current answer to the power of x\n",
    "        self.answer = self.answer ** x\n",
    "        return self.answer\n",
    "    \n",
    "    def sin(self):\n",
    "        # Calculate the sine of the current answer\n",
    "        self.answer = math.sin(self.answer)\n",
    "        return self.answer\n",
    "    \n",
    "    def reciprocal(self):\n",
    "        # Calculate the reciprocal of the current answer (handle reciprocal of zero)\n",
    "        if self.answer != 0:\n",
    "            self.answer = 1 / self.answer\n",
    "        else:\n",
    "            print(\"Error: Reciprocal of zero is undefined\")\n",
    "        return self.answer\n",
    "    \n",
    "    def cos(self):\n",
    "        # Calculate the cosine of the current answer\n",
    "        self.answer = math.cos(self.answer)\n",
    "        return self.answer\n",
    "\n",
    "# Create an instance of the Calculator class\n",
    "calculator = Calculator()\n",
    "\n",
    "# Perform some calculations and print the results\n",
    "print(calculator.get_value())\n",
    "print(calculator.add(20))\n",
    "print(calculator.subtract(28))\n",
    "print(calculator.multiply(29))\n",
    "print(calculator.divide(100))\n",
    "print(calculator.get_value())\n",
    "print(calculator.clear())\n"
   ]
  },
  {
   "cell_type": "code",
   "execution_count": null,
   "id": "63df94cb",
   "metadata": {},
   "outputs": [],
   "source": []
  },
  {
   "cell_type": "code",
   "execution_count": null,
   "id": "e16bc269",
   "metadata": {},
   "outputs": [],
   "source": []
  }
 ],
 "metadata": {
  "kernelspec": {
   "display_name": "Python 3 (ipykernel)",
   "language": "python",
   "name": "python3"
  },
  "language_info": {
   "codemirror_mode": {
    "name": "ipython",
    "version": 3
   },
   "file_extension": ".py",
   "mimetype": "text/x-python",
   "name": "python",
   "nbconvert_exporter": "python",
   "pygments_lexer": "ipython3",
   "version": "3.11.5"
  }
 },
 "nbformat": 4,
 "nbformat_minor": 5
}
