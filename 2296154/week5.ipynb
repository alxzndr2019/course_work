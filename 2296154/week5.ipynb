{
 "cells": [
  {
   "cell_type": "markdown",
   "id": "7ec0f7c9",
   "metadata": {},
   "source": [
    "# Exercise 1\n"
   ]
  },
  {
   "cell_type": "code",
   "execution_count": 11,
   "id": "7f73d8ea",
   "metadata": {},
   "outputs": [
    {
     "name": "stdout",
     "output_type": "stream",
     "text": [
      "Printing Input Array\n",
      "[[ 3  6  9 12]\n",
      " [15 16 21 24]\n",
      " [27 30 33 36]\n",
      " [39 42 45 48]\n",
      " [51 54 57 66]]\n",
      "Printing array of odd rows and even columns\n",
      "[[ 6 12]\n",
      " [30 36]\n",
      " [54 66]]\n"
     ]
    }
   ],
   "source": [
    "import numpy as np\n",
    "\n",
    "# Define a 2D NumPy array\n",
    "sampleArray = np.array([[3, 6, 9, 12], [15, 16, 21, 24], [27, 30, 33, 36], [39, 42, 45, 48], [51, 54, 57, 66]])\n",
    "\n",
    "# Print the original array\n",
    "print(\"Printing Input Array\")\n",
    "print(sampleArray)\n",
    "\n",
    "# Extract and print the array of odd rows and even columns\n",
    "print(\"Printing array of odd rows and even columns\")\n",
    "print(sampleArray[:, [1, 3]][0::2])\n"
   ]
  },
  {
   "cell_type": "markdown",
   "id": "c1d26a79",
   "metadata": {},
   "source": [
    "# Exercise 2"
   ]
  },
  {
   "cell_type": "code",
   "execution_count": 14,
   "id": "cefe248b",
   "metadata": {},
   "outputs": [
    {
     "name": "stdout",
     "output_type": "stream",
     "text": [
      "addition of two arrays\n",
      "[[20 39 33]\n",
      " [25 25 28]]\n",
      "Result array after calculating the square root of all elements\n",
      "[[ 400 1521 1089]\n",
      " [ 625  625  784]]\n"
     ]
    }
   ],
   "source": [
    "\n",
    "# Define two 2D NumPy arrays\n",
    "arrayOne = np.array([[5, 6, 9], [21, 18, 27]])\n",
    "arrayTwo = np.array([[15, 33, 24], [4, 7, 1]])\n",
    "\n",
    "# Print the addition of two arrays\n",
    "print(\"Addition of two arrays\")\n",
    "result_addition = np.add(arrayOne, arrayTwo)\n",
    "print(result_addition)\n",
    "\n",
    "# Print the result array after calculating the square root of all elements\n",
    "print(\"Result array after calculating the square root of all elements\")\n",
    "result_square_root = np.square(result_addition)\n",
    "print(result_square_root)\n"
   ]
  },
  {
   "cell_type": "markdown",
   "id": "d36392af",
   "metadata": {},
   "source": [
    "# Exercise 3"
   ]
  },
  {
   "cell_type": "code",
   "execution_count": 8,
   "id": "b07ad9dc",
   "metadata": {
    "tags": []
   },
   "outputs": [
    {
     "name": "stdout",
     "output_type": "stream",
     "text": [
      "Printing Original Array\n",
      "[[34 43 73]\n",
      " [82 22 12]\n",
      " [53 94 66]]\n",
      "Array after deleting column 2 on axis 1\n",
      "[[34 73]\n",
      " [82 12]\n",
      " [53 66]]\n",
      "Array after inserting newColumn in the middle on axis 1\n",
      "[[34 10 73]\n",
      " [82 10 12]\n",
      " [53 10 66]]\n"
     ]
    }
   ],
   "source": [
    "import numpy as np\n",
    "\n",
    "# Define a 2D NumPy array\n",
    "sampleArray = np.array([[34, 43, 73], [82, 22, 12], [53, 94, 66]])\n",
    "\n",
    "# Define a new column array\n",
    "newColumn = np.array([10, 10, 10])\n",
    "\n",
    "# Print the original array\n",
    "print(\"Printing Original Array\")\n",
    "print(sampleArray)\n",
    "\n",
    "# Delete the second column on axis 1\n",
    "updatedArray = np.delete(sampleArray, 1, axis=1)\n",
    "print(\"Array after deleting column 2 on axis 1\")\n",
    "print(updatedArray)\n",
    "\n",
    "# Calculate the middle index of the updated array\n",
    "middle_index = updatedArray.shape[1] // 2\n",
    "\n",
    "# Insert the new column in the middle on axis 1\n",
    "updatedArray = np.insert(updatedArray, middle_index, newColumn, axis=1)\n",
    "print(\"Array after inserting newColumn in the middle on axis 1\")\n",
    "print(updatedArray)\n"
   ]
  },
  {
   "cell_type": "markdown",
   "id": "74a668d6",
   "metadata": {},
   "source": [
    "# Exercise 4"
   ]
  },
  {
   "cell_type": "code",
   "execution_count": 15,
   "id": "90b5a5d6",
   "metadata": {
    "tags": []
   },
   "outputs": [
    {
     "name": "stdout",
     "output_type": "stream",
     "text": [
      "Print Original Array\n",
      "[[34 43 73]\n",
      " [82 22 12]\n",
      " [53 94 66]]\n",
      "Sorting Original array for the second row\n",
      "[[73 43 34]\n",
      " [12 22 82]\n",
      " [66 94 53]]\n",
      "Sorting Original array for the second column\n",
      "[[82 22 12]\n",
      " [34 43 73]\n",
      " [53 94 66]]\n"
     ]
    }
   ],
   "source": [
    "import numpy as np\n",
    "\n",
    "# Define a 2D NumPy array\n",
    "sampleArray = np.array([[34, 43, 73], [82, 22, 12], [53, 94, 66]])\n",
    "\n",
    "# Print the original array\n",
    "print(\"Print Original Array\")\n",
    "print(sampleArray)\n",
    "\n",
    "# Sort the original array for the second row\n",
    "sorted_second_row = sampleArray[:, np.argsort(sampleArray[1])]\n",
    "print(\"Sorting Original array for the second row\")\n",
    "print(sorted_second_row)\n",
    "\n",
    "# Sort the original array for the second column\n",
    "sorted_second_column = sampleArray[sampleArray[:, 1].argsort()]\n",
    "print(\"Sorting Original array for the second column\")\n",
    "print(sorted_second_column)\n"
   ]
  },
  {
   "cell_type": "markdown",
   "id": "e0032c49",
   "metadata": {},
   "source": [
    "# Exercise 5"
   ]
  },
  {
   "cell_type": "code",
   "execution_count": 13,
   "id": "291e5c30",
   "metadata": {
    "tags": []
   },
   "outputs": [
    {
     "name": "stdout",
     "output_type": "stream",
     "text": [
      "[-6, -7, -9]\n"
     ]
    }
   ],
   "source": [
    "import numpy as np\n",
    "\n",
    "# Define a list\n",
    "Z = [2, 3, 6, 7, 9, 8, 4, 7, 9, 2, 1, 0, 4]\n",
    "\n",
    "# Create a NumPy array from the list\n",
    "array = np.array(Z)\n",
    "\n",
    "# Extract a slice of elements from index 2 to 4\n",
    "vals = array[2:5]\n",
    "\n",
    "# Negate each element in the slice\n",
    "negate = []\n",
    "for x in vals:\n",
    "    negate.append(x * -1)\n",
    "\n",
    "# Print the negated values\n",
    "print(negate)\n",
    "\n",
    "  \n"
   ]
  },
  {
   "cell_type": "code",
   "execution_count": null,
   "id": "e2ccaec2",
   "metadata": {},
   "outputs": [],
   "source": []
  }
 ],
 "metadata": {
  "kernelspec": {
   "display_name": "Python 3 (ipykernel)",
   "language": "python",
   "name": "python3"
  },
  "language_info": {
   "codemirror_mode": {
    "name": "ipython",
    "version": 3
   },
   "file_extension": ".py",
   "mimetype": "text/x-python",
   "name": "python",
   "nbconvert_exporter": "python",
   "pygments_lexer": "ipython3",
   "version": "3.11.5"
  }
 },
 "nbformat": 4,
 "nbformat_minor": 5
}
