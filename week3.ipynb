{
 "cells": [
  {
   "cell_type": "markdown",
   "metadata": {},
   "source": [
    "# Python Statements\n",
    "\n",
    "## In python, a codeblock refers to a collection of code that is in thesame block or indent"
   ]
  },
  {
   "cell_type": "code",
   "execution_count": 15,
   "metadata": {},
   "outputs": [
    {
     "name": "stdout",
     "output_type": "stream",
     "text": [
      "y is greater than a\n"
     ]
    }
   ],
   "source": [
    "y = 8 \n",
    "a = 5\n",
    "if y > a:\n",
    "    print(\"y is greater than a\")\n",
    "else:\n",
    "    print(\"a is greater than y\")\n",
    "  "
   ]
  },
  {
   "cell_type": "code",
   "execution_count": 39,
   "metadata": {},
   "outputs": [
    {
     "name": "stdout",
     "output_type": "stream",
     "text": [
      "<class 'str'>\n",
      "alex\n",
      "Jane\n",
      "[{'name': 'alex', 'song': 'jealous'}, {'name': 'Jane', 'song': 'cool'}]\n",
      "sing\n"
     ]
    }
   ],
   "source": [
    "dictionary = [{\n",
    "    \"name\" : \"alex\",\n",
    "    \"song\" : \"jealous\"\n",
    "}]\n",
    "print(type(dictionary[0][\"name\"]))\n",
    "\n",
    "dictionary.append({\n",
    "    \"name\" : \"Jane\",\n",
    "    \"song\" : \"cool\"\n",
    "},)\n",
    "\n",
    "for item in dictionary:\n",
    "    print(item[\"name\"])\n",
    "\n",
    "print(dictionary)\n",
    "age= 8\n",
    "\n",
    "\n",
    "s = \"sing\" if age > 3 else \"dont\" #ternary operator\n",
    "print(s)"
   ]
  },
  {
   "cell_type": "code",
   "execution_count": 1,
   "metadata": {},
   "outputs": [
    {
     "name": "stdout",
     "output_type": "stream",
     "text": [
      "0\n",
      "0\n",
      "0\n",
      "0\n",
      "0\n",
      "0\n",
      "0\n",
      "0\n",
      "0\n",
      "0\n",
      "-7\n"
     ]
    }
   ],
   "source": [
    "my_list =[ 1,3,4,5,6,7,7,5,54,5,-7]\n",
    "\n",
    "for item in my_list:\n",
    "    max = 0\n",
    "    min = 0\n",
    "    if item < 0:\n",
    "        if item > item - 1:\n",
    "            min = 0\n",
    "        print(item)\n",
    "    else:\n",
    "        print(min)\n",
    "     "
   ]
  }
 ],
 "metadata": {
  "kernelspec": {
   "display_name": "Python 3 (ipykernel)",
   "language": "python",
   "name": "python3"
  },
  "language_info": {
   "codemirror_mode": {
    "name": "ipython",
    "version": 3
   },
   "file_extension": ".py",
   "mimetype": "text/x-python",
   "name": "python",
   "nbconvert_exporter": "python",
   "pygments_lexer": "ipython3",
   "version": "3.11.6"
  }
 },
 "nbformat": 4,
 "nbformat_minor": 4
}
